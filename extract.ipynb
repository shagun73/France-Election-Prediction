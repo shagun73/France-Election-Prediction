{
 "cells": [
  {
   "cell_type": "code",
   "execution_count": 1,
   "metadata": {
    "collapsed": true
   },
   "outputs": [],
   "source": [
    "import pandas as pd\n",
    "\n",
    "#Data management libraries\n",
    "import sqlite3\n",
    "\n",
    "connection = sqlite3.connect(\"database.sqlite\")\n",
    "df = pd.read_sql_query(\"SELECT * from whole_data\", connection)\n",
    "connection.close()"
   ]
  },
  {
   "cell_type": "code",
   "execution_count": 61,
   "metadata": {
    "collapsed": true
   },
   "outputs": [],
   "source": [
    "df1 = df.loc[df['mention_Mélenchon']== 1,['day','score','mention_Mélenchon']]\n",
    "df1_1 = df1.loc[df1['day'] <'2017-04-24',['day','score','mention_Mélenchon']]\n",
    "df_all = df.loc[df['score']!= '0',['day','score']]\n",
    "dfall = df_all.loc[df_all['day'] <'2017-04-24',['day','score']]"
   ]
  },
  {
   "cell_type": "code",
   "execution_count": 62,
   "metadata": {},
   "outputs": [
    {
     "data": {
      "text/plain": [
       "day      7040382\n",
       "score    7040382\n",
       "dtype: int64"
      ]
     },
     "execution_count": 62,
     "metadata": {},
     "output_type": "execute_result"
    }
   ],
   "source": [
    " dfall.count()"
   ]
  },
  {
   "cell_type": "code",
   "execution_count": 63,
   "metadata": {},
   "outputs": [
    {
     "data": {
      "text/plain": [
       "day                  405510\n",
       "score                405510\n",
       "mention_Mélenchon    405510\n",
       "dtype: int64"
      ]
     },
     "execution_count": 63,
     "metadata": {},
     "output_type": "execute_result"
    }
   ],
   "source": [
    "df_totaltweet = df1_1.loc[df1_1['score'] != '0.0']\n",
    "df_positive = df1_1.loc[df1_1['score'] > '0.0']\n",
    "df_negative = df1_1.loc[df1_1['score'] < '0.0']\n",
    "df_positive.count()"
   ]
  },
  {
   "cell_type": "code",
   "execution_count": 64,
   "metadata": {},
   "outputs": [
    {
     "data": {
      "text/plain": [
       "day                  175613\n",
       "score                175613\n",
       "mention_Mélenchon    175613\n",
       "dtype: int64"
      ]
     },
     "execution_count": 64,
     "metadata": {},
     "output_type": "execute_result"
    }
   ],
   "source": [
    "df_negative.count()"
   ]
  },
  {
   "cell_type": "code",
   "execution_count": 65,
   "metadata": {},
   "outputs": [
    {
     "data": {
      "text/plain": [
       "day                  581123\n",
       "score                581123\n",
       "mention_Mélenchon    581123\n",
       "dtype: int64"
      ]
     },
     "execution_count": 65,
     "metadata": {},
     "output_type": "execute_result"
    }
   ],
   "source": [
    "df_totaltweet.count()"
   ]
  },
  {
   "cell_type": "code",
   "execution_count": 66,
   "metadata": {
    "collapsed": true
   },
   "outputs": [],
   "source": [
    "df_Posday = df_positive.groupby('day')\n",
    "df_Negday = df_negative.groupby('day')\n",
    "df_allday = dfall.groupby('day')\n",
    "df_totaltweetday = df_totaltweet.groupby('day')"
   ]
  },
  {
   "cell_type": "code",
   "execution_count": 67,
   "metadata": {
    "collapsed": true
   },
   "outputs": [],
   "source": [
    "pos_Macron = df_Posday['day'].count()"
   ]
  },
  {
   "cell_type": "code",
   "execution_count": 68,
   "metadata": {
    "collapsed": true
   },
   "outputs": [],
   "source": [
    "neg_Macron = df_Negday['day'].count()"
   ]
  },
  {
   "cell_type": "code",
   "execution_count": 69,
   "metadata": {
    "collapsed": true
   },
   "outputs": [],
   "source": [
    "total_tweet = df_totaltweetday['day'].count()\n",
    "all_tweet = df_allday['day'].count()\n",
    "num_tweet = total_tweet/all_tweet"
   ]
  },
  {
   "cell_type": "code",
   "execution_count": 80,
   "metadata": {},
   "outputs": [
    {
     "data": {
      "text/plain": [
       "day\n",
       "2017-03-18    0.083912\n",
       "2017-03-19    0.041126\n",
       "2017-03-20    0.104972\n",
       "2017-03-21    0.137661\n",
       "2017-03-22    0.087437\n",
       "2017-03-23    0.043241\n",
       "2017-03-24    0.026814\n",
       "2017-03-25    0.031687\n",
       "2017-03-26    0.061786\n",
       "2017-03-27    0.048050\n",
       "2017-03-28    0.042858\n",
       "2017-03-29    0.065440\n",
       "2017-03-30    0.057987\n",
       "2017-03-31    0.078155\n",
       "2017-04-01    0.047914\n",
       "2017-04-02    0.068444\n",
       "2017-04-03    0.047673\n",
       "2017-04-04    0.086684\n",
       "2017-04-05    0.084776\n",
       "2017-04-06    0.040040\n",
       "2017-04-07    0.063801\n",
       "2017-04-08    0.111108\n",
       "2017-04-09    0.115708\n",
       "2017-04-10    0.100876\n",
       "2017-04-11    0.103435\n",
       "2017-04-12    0.161326\n",
       "2017-04-13    0.149112\n",
       "2017-04-14    0.101806\n",
       "2017-04-15    0.080668\n",
       "2017-04-16    0.130669\n",
       "2017-04-17    0.078703\n",
       "2017-04-18    0.095082\n",
       "2017-04-19    0.081010\n",
       "2017-04-20    0.092792\n",
       "2017-04-21    0.060609\n",
       "2017-04-22    0.098095\n",
       "2017-04-23    0.069243\n",
       "Name: day, dtype: float64"
      ]
     },
     "execution_count": 80,
     "metadata": {},
     "output_type": "execute_result"
    }
   ],
   "source": [
    "num_tweet"
   ]
  },
  {
   "cell_type": "code",
   "execution_count": 70,
   "metadata": {
    "collapsed": true
   },
   "outputs": [],
   "source": [
    "df_total=df.loc[df['score']>'0',['day','score','mention_Mélenchon']]\n",
    "df_totalDay=df_total.loc[df_total['day']<'2017-04-24',['day','score','mention_Mélenchon']]"
   ]
  },
  {
   "cell_type": "code",
   "execution_count": 71,
   "metadata": {
    "collapsed": true
   },
   "outputs": [],
   "source": [
    "df_totalPos = df_totalDay.groupby('day')\n",
    "pos_Total = df_totalPos['day'].count()"
   ]
  },
  {
   "cell_type": "code",
   "execution_count": 81,
   "metadata": {},
   "outputs": [
    {
     "data": {
      "text/plain": [
       "day\n",
       "2017-03-18    0.397262\n",
       "2017-03-19    0.188191\n",
       "2017-03-20    0.495259\n",
       "2017-03-21    0.530617\n",
       "2017-03-22    0.325929\n",
       "2017-03-23    0.161612\n",
       "2017-03-24    0.085182\n",
       "2017-03-25    0.117951\n",
       "2017-03-26    0.238201\n",
       "2017-03-27    0.185280\n",
       "2017-03-28    0.161867\n",
       "2017-03-29    0.242101\n",
       "2017-03-30    0.247725\n",
       "2017-03-31    0.371298\n",
       "2017-04-01    0.200860\n",
       "2017-04-02    0.291524\n",
       "2017-04-03    0.182024\n",
       "2017-04-04    0.360548\n",
       "2017-04-05    0.407494\n",
       "2017-04-06    0.163301\n",
       "2017-04-07    0.266818\n",
       "2017-04-08    0.458300\n",
       "2017-04-09    0.483887\n",
       "2017-04-10    0.389156\n",
       "2017-04-11    0.413253\n",
       "2017-04-12    0.673614\n",
       "2017-04-13    0.588767\n",
       "2017-04-14    0.380010\n",
       "2017-04-15    0.314109\n",
       "2017-04-16    0.498010\n",
       "2017-04-17    0.303151\n",
       "2017-04-18    0.440887\n",
       "2017-04-19    0.365778\n",
       "2017-04-20    0.388514\n",
       "2017-04-21    0.246063\n",
       "2017-04-22    0.225698\n",
       "2017-04-23    0.282739\n",
       "Name: day, dtype: float64"
      ]
     },
     "execution_count": 81,
     "metadata": {},
     "output_type": "execute_result"
    }
   ],
   "source": [
    "per_posMacron = pos_Macron/pos_Total\n",
    "per_posMacron"
   ]
  },
  {
   "cell_type": "code",
   "execution_count": 73,
   "metadata": {
    "collapsed": true
   },
   "outputs": [],
   "source": [
    "df_total=df.loc[df['score']<'0',['day','score','mention_Mélenchon']]\n",
    "df_totalDay=df_total.loc[df_total['day']<'2017-04-24',['day','score','mention_Mélenchon']]\n",
    "df_totalNeg = df_totalDay.groupby('day')\n",
    "pos_Total = df_totalNeg['day'].count()\n",
    "per_negMacron = neg_Macron/pos_Total"
   ]
  },
  {
   "cell_type": "code",
   "execution_count": 82,
   "metadata": {},
   "outputs": [
    {
     "data": {
      "text/plain": [
       "day\n",
       "2017-03-18    0.120548\n",
       "2017-03-19    0.061666\n",
       "2017-03-20    0.188922\n",
       "2017-03-21    0.245907\n",
       "2017-03-22    0.140402\n",
       "2017-03-23    0.064297\n",
       "2017-03-24    0.044796\n",
       "2017-03-25    0.053024\n",
       "2017-03-26    0.094158\n",
       "2017-03-27    0.078591\n",
       "2017-03-28    0.086741\n",
       "2017-03-29    0.110552\n",
       "2017-03-30    0.098597\n",
       "2017-03-31    0.109977\n",
       "2017-04-01    0.088262\n",
       "2017-04-02    0.125095\n",
       "2017-04-03    0.073520\n",
       "2017-04-04    0.106826\n",
       "2017-04-05    0.087123\n",
       "2017-04-06    0.065823\n",
       "2017-04-07    0.102603\n",
       "2017-04-08    0.152547\n",
       "2017-04-09    0.176078\n",
       "2017-04-10    0.179411\n",
       "2017-04-11    0.231922\n",
       "2017-04-12    0.282847\n",
       "2017-04-13    0.235364\n",
       "2017-04-14    0.160820\n",
       "2017-04-15    0.169947\n",
       "2017-04-16    0.263433\n",
       "2017-04-17    0.152323\n",
       "2017-04-18    0.150583\n",
       "2017-04-19    0.145166\n",
       "2017-04-20    0.154975\n",
       "2017-04-21    0.098761\n",
       "2017-04-22    0.291827\n",
       "2017-04-23    0.143546\n",
       "Name: day, dtype: float64"
      ]
     },
     "execution_count": 82,
     "metadata": {},
     "output_type": "execute_result"
    }
   ],
   "source": [
    "per_negMacron"
   ]
  },
  {
   "cell_type": "code",
   "execution_count": 74,
   "metadata": {
    "collapsed": true,
    "scrolled": true
   },
   "outputs": [],
   "source": [
    "import numpy as np\n",
    "\n",
    "x_candidate = []\n",
    "for x,y,z in zip(num_tweet,per_posMacron,per_negMacron):\n",
    "    x_candidate.append([x,y,z])\n",
    "# print x_candidate\n",
    "# print np.shape(x_candidate)"
   ]
  },
  {
   "cell_type": "code",
   "execution_count": 75,
   "metadata": {},
   "outputs": [
    {
     "name": "stdout",
     "output_type": "stream",
     "text": [
      "(36, 3)\n"
     ]
    }
   ],
   "source": [
    "x_predict=[]\n",
    "for k,x in enumerate(x_candidate):\n",
    "    if k!=0:\n",
    "        x_predict.append(x)\n",
    "# print x_predict\n",
    "print np.shape(x_predict)"
   ]
  },
  {
   "cell_type": "code",
   "execution_count": 76,
   "metadata": {},
   "outputs": [
    {
     "data": {
      "text/plain": [
       "36"
      ]
     },
     "execution_count": 76,
     "metadata": {},
     "output_type": "execute_result"
    }
   ],
   "source": [
    "len(x_predict)"
   ]
  },
  {
   "cell_type": "code",
   "execution_count": 77,
   "metadata": {
    "collapsed": true
   },
   "outputs": [],
   "source": [
    "import re\n",
    "\n",
    "Le_Pen = \"24,024,525,025,526,026,026,026,026,025,526,026,026,026,026,026,526,526,026,025,525,526,027,026,526,026,026,026,026,426,526,526,526,526,526,526,026,025,525,025,025,025,025,025,025,525,525,025,025,025,525,025,024,524,524,524,524,024,023,523,523,023,023,022,522,522,522,522,522,521,3\"\n",
    "Macron = '20,020,020,520,521,021,021,020,519,519,519,519,518,519,019,019,022,523,524,524,024,024,024,525,525,024,525,025,524,925,025,525,526,026,026,025,025,525,526,026,026,026,025,525,526,026,026,026,026,026,025,024,524,023,523,523,523,023,022,522,522,522,522,523,023,523,524,024,524,524,0'\n",
    "Fillon = '21,020,018,518,518,518,017,517,518,018,518,518,518,518,519,019,020,520,520,020,521,021,020,019,019,019,519,019,518,919,018,518,018,018,018,018,017,518,018,018,018,018,017,517,517,517,517,517,517,517,017,518,018,518,518,518,518,519,019,019,019,019,019,019,519,519,519,519,519,520,0'\n",
    "Hammon = '18,017,016,515,514,514,515,015,014,514,514,014,014,014,014,014,013,513,013,514,014,014,514,013,514,013,513,513,513,914,013,513,513,513,513,512,511,511,011,011,011,010,510,510,510,010,010,010,010,010,010,009,509,509,509,509,509,008,508,508,508,008,008,007,507,507,507,007,007,006,4'\n",
    "Melenc = '09,009,510,010,010,510,510,511,011,511,511,511,011,511,511,511,011,011,011,511,511,011,011,011,511,511,512,012,011,411,511,511,010,510,510,511,511,512,012,512,512,513,014,014,014,014,515,015,015,015,015,516,016,517,017,017,018,018,518,519,019,019,019,019,519,018,518,518,518,519,6'\n",
    "t1 = re.findall('....',Le_Pen.replace(',','.'))\n",
    "t2 = re.findall('....',Macron.replace(',','.'))\n",
    "t3 = re.findall('....',Fillon.replace(',','.'))\n",
    "t4 = re.findall('....',Hammon.replace(',','.'))\n",
    "t5 = re.findall('....',Melenc.replace(',','.'))\n",
    "\n",
    "t1 = t1[-36:]\n",
    "y_lepen = []\n",
    "for t in t1:\n",
    "    y_lepen.append(float(t))\n",
    "#y_lepen = np.array(y_lepen)\n",
    "# t1 = float(t1)\n",
    "t2 = t2[-36:]\n",
    "y_macron = []\n",
    "for t in t2:\n",
    "    y_macron.append(float(t))\n",
    "t3 = t3[-36:]\n",
    "y_fillon = []\n",
    "for t in t3:\n",
    "    y_fillon.append(float(t))\n",
    "t4 = t4[-36:]\n",
    "y_hammon = []\n",
    "for t in t4:\n",
    "    y_hammon.append(float(t))\n",
    "t5 = t5[-36:]\n",
    "y_melenc = []\n",
    "for t in t5:\n",
    "    y_melenc.append(float(t))\n",
    "\n",
    "# print(y_lepen)\n",
    "# print(y_macron)\n",
    "# print(y_fillon)\n",
    "# print(y_hammon)\n",
    "# print(y_melenc)"
   ]
  },
  {
   "cell_type": "code",
   "execution_count": 83,
   "metadata": {},
   "outputs": [
    {
     "name": "stdout",
     "output_type": "stream",
     "text": [
      "[10.5, 11.5, 11.5, 12.0, 12.5, 12.5, 12.5, 13.0, 14.0, 14.0, 14.0, 14.5, 15.0, 15.0, 15.0, 15.0, 15.5, 16.0, 16.5, 17.0, 17.0, 17.0, 18.0, 18.5, 18.5, 19.0, 19.0, 19.0, 19.0, 19.5, 19.0, 18.5, 18.5, 18.5, 18.5, 19.6]\n"
     ]
    }
   ],
   "source": [
    "print y_melenc"
   ]
  },
  {
   "cell_type": "code",
   "execution_count": 79,
   "metadata": {},
   "outputs": [
    {
     "name": "stdout",
     "output_type": "stream",
     "text": [
      "Residual sum of squares: 37.96\n",
      "Residual sum of squares: 17.97\n",
      "Residual sum of squares: 11.93\n",
      "Residual sum of squares: 8.76\n",
      "Residual sum of squares: 7.08\n",
      "Residual sum of squares: 5.90\n",
      "Residual sum of squares: 5.51\n",
      "Residual sum of squares: 5.41\n",
      "Residual sum of squares: 5.53\n"
     ]
    }
   ],
   "source": [
    "from sklearn import svm\n",
    "from sklearn.model_selection import KFold\n",
    "import matplotlib.pyplot as plt\n",
    "from sklearn import datasets, linear_model\n",
    "\n",
    "database_y = y_melenc\n",
    "# print np.shape(database_y)\n",
    "database_x = x_predict\n",
    "x_train=[]\n",
    "y_train=[]\n",
    "x_test = []\n",
    "y_test = []\n",
    "kf = KFold(n_splits=9)\n",
    "for train, test in kf.split(database_x):\n",
    "    for t in train:\n",
    "        x_train.append(database_x[t])\n",
    "        y_train.append(database_y[t])\n",
    "    for t in test:\n",
    "        x_test.append(database_x[t])\n",
    "        y_test.append(database_y[t])\n",
    "    clf = linear_model.LinearRegression()\n",
    "    clf.fit(x_train,y_train)\n",
    "    print(\"Residual sum of squares: %.2f\" % np.mean((clf.predict(x_test) - y_test) ** 2))"
   ]
  },
  {
   "cell_type": "code",
   "execution_count": null,
   "metadata": {
    "collapsed": true
   },
   "outputs": [],
   "source": []
  }
 ],
 "metadata": {
  "anaconda-cloud": {},
  "kernelspec": {
   "display_name": "Python 2",
   "language": "python",
   "name": "python2"
  },
  "language_info": {
   "codemirror_mode": {
    "name": "ipython",
    "version": 2
   },
   "file_extension": ".py",
   "mimetype": "text/x-python",
   "name": "python",
   "nbconvert_exporter": "python",
   "pygments_lexer": "ipython2",
   "version": "2.7.10"
  }
 },
 "nbformat": 4,
 "nbformat_minor": 1
}
