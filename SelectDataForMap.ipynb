{
 "cells": [
  {
   "cell_type": "code",
   "execution_count": 1,
   "metadata": {
    "collapsed": true
   },
   "outputs": [],
   "source": [
    "#import math, re, string, requests, json\n",
    "#from itertools import product\n",
    "#from inspect import getsourcefile\n",
    "#from os.path import abspath, join, dirname\n",
    "#import sys  \n",
    "\n",
    "from pprint import pprint\n",
    "from itertools import product\n",
    "\n",
    "\n",
    "#Data analytics libraries\n",
    "import numpy as np\n",
    "import pandas as pd\n",
    "\n",
    "#Data management libraries\n",
    "import sqlite3\n",
    "connection = sqlite3.connect(\"database.sqlite\")\n",
    "df_raw= pd.read_sql_query(\"SELECT * from whole_data\", connection)\n",
    "connection.close()"
   ]
  },
  {
   "cell_type": "code",
   "execution_count": 2,
   "metadata": {
    "scrolled": true
   },
   "outputs": [
    {
     "data": {
      "text/plain": [
       "France                           519953\n",
       "Paris,France                     493851\n",
       "US                                94049\n",
       "Ile-de-France                     79537\n",
       "UK                                70775\n",
       "Lyon,France                       60732\n",
       "Toulouse,France                   45377\n",
       "Marseille,France                  36202\n",
       "Nantes,France                     36051\n",
       "Bretagne,France                   36004\n",
       "Paris,FranceIle-de-France         35769\n",
       "Lille,France                      35477\n",
       "Metz,France                       33870\n",
       "Bordeaux,France                   32340\n",
       "Montpellier,France                27682\n",
       "Nice,France                       25155\n",
       "Rennes,France                     16772\n",
       "Rhône-Alpes                       13130\n",
       "Languedoc-Roussillon,France       12663\n",
       "Caen,France                       12276\n",
       "Rouen,France                      11456\n",
       "Tours,France                      11221\n",
       "Nancy,France                      11080\n",
       "Brest,France                      10328\n",
       "Grenoble,France                   10107\n",
       "Var,France                         9625\n",
       "Lorraine,France                    9536\n",
       "Belgique,France                    8678\n",
       "Angers,France                      8620\n",
       "Provence-Alpes-Côte d'Azur         8557\n",
       "                                  ...  \n",
       "h.h                                   1\n",
       "Montgomery, IL                        1\n",
       "F.C.T. ABUJA  NIGERIA                 1\n",
       "Evertonian UK exile                   1\n",
       "Rabat/Tanger/Sevilla                  1\n",
       "theo_laigle mon gars sur              1\n",
       "ds le cul de ton père                 1\n",
       "l Riarkle l                           1\n",
       "L,E                                   1\n",
       "public bathroom                       1\n",
       "Snapchat: AudibleDotCom               1\n",
       "angoubled                             1\n",
       "New York City/ Montréal               1\n",
       "Paris,France 13                       1\n",
       "Slemani / Nashville                   1\n",
       "Furiani Tribuna Petrignani            1\n",
       "Illuminati HQ, Antarctic Wall         1\n",
       "Darney, Lorraine,France               1\n",
       "Cottage Grove, MN                     1\n",
       "South Coast, KZN                      1\n",
       "out of place                          1\n",
       "NJ//MA//GA                            1\n",
       "Copenhagen DK                         1\n",
       "Plobannalec-Lesconil                  1\n",
       "CARLA❤❤                               1\n",
       "Come at me bro                        1\n",
       "Omaha, NE & France                    1\n",
       "shankill dublin                       1\n",
       "La cave de papa                       1\n",
       "Guyane-Martinique-Polynésie           1\n",
       "Name: location, dtype: int64"
      ]
     },
     "execution_count": 2,
     "metadata": {},
     "output_type": "execute_result"
    }
   ],
   "source": [
    "df_raw['location'] = df_raw['location'].str.replace(', France', '')\n",
    "df_raw['location'] = df_raw['location'].str.replace(',France', '')\n",
    "francelist = ['FRANCE[\\s]*[\\S]*[\\w]*[\\W]*', 'france[\\s]*[\\S]*[\\w]*[\\W]*','France[\\s]*[\\S]*[\\w]*[\\W]*']\n",
    "df_raw['location'] = df_raw['location'].replace(to_replace=francelist, value='France',regex = True)\n",
    "parislist = ['Paris[\\s]*[\\S]*[\\w]*[\\W]*','paris','PARIS']\n",
    "df_raw['location'] = df_raw['location'].replace(to_replace=parislist, value='Paris,France',regex=True)\n",
    "lyonlist = ['LYON[\\s]*[\\S]*[\\w]*[\\W]*','Lyon[\\s]*[\\S]*[\\w]*[\\W]*']\n",
    "df_raw['location'] = df_raw['location'].replace(to_replace=lyonlist, value='Lyon,France',regex=True)\n",
    "df_raw['location'] = df_raw['location'].replace(to_replace = 'Provence-Alpes-Côte d\\'Azur',value='Provence-Alpes-Côte d\\'Azur',regex=True)\n",
    "Marseillelist = ['Marseille[\\s]*[\\S]*[\\w]*[\\W]*','MARSEILLE[\\s]*[\\S]*[\\w]*[\\W]*']\n",
    "df_raw['location'] = df_raw['location'].replace(to_replace=Marseillelist, value='Marseille,France',regex=True)\n",
    "Toulouselist=['TOULOUSE','Toulouse[\\s]*[\\S]*[\\w]*[\\W]*','toulouse[\\s]*[\\S]*[\\w]*[\\W]*']\n",
    "df_raw['location'] = df_raw['location'].replace(to_replace=Toulouselist, value='Toulouse,France',regex=True)\n",
    "Nicelist = ['NICE','Nice[\\s]*[\\S]*[\\w]*[\\W]*']\n",
    "df_raw['location'] = df_raw['location'].replace(to_replace=Nicelist, value='Nice,France',regex=True)\n",
    "df_raw['location'] = df_raw['location'].replace(to_replace='(Nantes|NANTES|nantes)[\\s]*[\\S]*[\\w]*[\\W]*', value='Nantes,France',regex=True)\n",
    "df_raw['location'] = df_raw['location'].replace(to_replace='(ANGERS|Angers)[\\s]*[\\S]*[\\w]*[\\W]*', value='Angers,France',regex=True)\n",
    "df_raw['location'] = df_raw['location'].replace(to_replace='(Metz|Metz)[\\s]*[\\S]*[\\w]*[\\W]*', value='Metz,France',regex=True)\n",
    "df_raw['location'] = df_raw['location'].replace(to_replace='(Strasbourg|STRASBOURG|strasbourg)[\\s]*[\\S]*[\\w]*[\\W]*', value='Metz,France',regex=True)\n",
    "df_raw['location'] = df_raw['location'].replace(to_replace='Montpellier[\\s]*[\\S]*[\\w]*[\\W]*', value='Montpellier,France',regex=True)\n",
    "df_raw['location'] = df_raw['location'].replace(to_replace='Bordeaux[\\s]*[\\S]*[\\w]*[\\W]*', value='Bordeaux,France',regex=True)\n",
    "df_raw['location'] = df_raw['location'].replace(to_replace='Bretagne[\\s]*[\\S]*[\\w]*[\\W]*', value='Bretagne,France',regex=True)\n",
    "df_raw['location'] = df_raw['location'].replace(to_replace='Nantes[\\s]*[\\S]*[\\w]*[\\W]*', value='Nantes,France',regex=True)\n",
    "df_raw['location'] = df_raw['location'].replace(to_replace='Rhône-Alpes[\\s]*[\\S]*[\\w]*[\\W]*', value='Rhône-Alpes,France',regex=True)\n",
    "df_raw['location'] = df_raw['location'].replace(to_replace='Tours[\\s]*[\\S]*[\\w]*[\\W]*', value='Tours,France',regex=True)\n",
    "df_raw['location'] = df_raw['location'].replace(to_replace='Lorraine[\\s]*[\\S]*[\\w]*[\\W]*', value='Lorraine,France',regex=True)\n",
    "df_raw['location'] = df_raw['location'].replace(to_replace='Belgique[\\s]*[\\S]*[\\w]*[\\W]*', value='Belgique,France',regex=True)\n",
    "df_raw['location'] = df_raw['location'].replace(to_replace='Var[\\s]*[\\S]*[\\w]*[\\W]*', value='Var,France',regex=True)\n",
    "df_raw['location'] = df_raw['location'].replace(to_replace='Languedoc-Roussillon[\\s]*[\\S]*[\\w]*[\\W]*', value='Languedoc-Roussillon,France',regex=True)\n",
    "df_raw['location'] = df_raw['location'].replace(to_replace='Lille[\\s]*[\\S]*[\\w]*[\\W]*', value='Lille,France',regex=True)\n",
    "df_raw['location'] = df_raw['location'].replace(to_replace='Rennes[\\s]*[\\S]*[\\w]*[\\W]*', value='Rennes,France',regex=True)\n",
    "df_raw['location'] = df_raw['location'].replace(to_replace='Reims[\\s]*[\\S]*[\\w]*[\\W]*', value='Reims,France',regex=True)\n",
    "df_raw['location'] = df_raw['location'].replace(to_replace='Le Havre[\\s]*[\\S]*[\\w]*[\\W]*', value='Le Havre,France',regex=True)\n",
    "df_raw['location'] = df_raw['location'].replace(to_replace='Saint-Étienne[\\s]*[\\S]*[\\w]*[\\W]*', value='Saint-Étienne,France',regex=True)\n",
    "df_raw['location'] = df_raw['location'].replace(to_replace='Toulon[\\s]*[\\S]*[\\w]*[\\W]*', value='Toulon,France',regex=True)\n",
    "df_raw['location'] = df_raw['location'].replace(to_replace='Grenoble[\\s]*[\\S]*[\\w]*[\\W]*', value='Grenoble,France',regex=True)\n",
    "df_raw['location'] = df_raw['location'].replace(to_replace='Dijon[\\s]*[\\S]*[\\w]*[\\W]*', value='Dijon,France',regex=True)\n",
    "df_raw['location'] = df_raw['location'].replace(to_replace='Caen[\\s]*[\\S]*[\\w]*[\\W]*', value='Caen,France',regex=True)\n",
    "df_raw['location'] = df_raw['location'].replace(to_replace='Villeurbanne[\\s]*[\\S]*[\\w]*[\\W]*', value='Villeurbanne,France',regex=True)\n",
    "df_raw['location'] = df_raw['location'].replace(to_replace='Saint-Denis[\\s]*[\\S]*[\\w]*[\\W]*', value='Saint-Denis,France',regex=True)\n",
    "df_raw['location'] = df_raw['location'].replace(to_replace='Le Mans[\\s]*[\\S]*[\\w]*[\\W]*', value='Le Mans,France',regex=True)\n",
    "df_raw['location'] = df_raw['location'].replace(to_replace='Clermont-Ferrand[\\s]*[\\S]*[\\w]*[\\W]*', value='Clermont-Ferrand,France',regex=True)\n",
    "df_raw['location'] = df_raw['location'].replace(to_replace='Aix-en-Provence[\\s]*[\\S]*[\\w]*[\\W]*', value='Aix-en-Provence,France',regex=True)\n",
    "df_raw['location'] = df_raw['location'].replace(to_replace='Brest[\\s]*[\\S]*[\\w]*[\\W]*', value='Brest,France',regex=True)\n",
    "df_raw['location'] = df_raw['location'].replace(to_replace='Rhône-Alpes[\\s]*[\\S]*[\\w]*[\\W]*', value='Rhône-Alpes,France',regex=True)\n",
    "df_raw['location'] = df_raw['location'].replace(to_replace='Rouen[\\s]*[\\S]*[\\w]*[\\W]*', value='Rouen,France',regex=True)\n",
    "df_raw['location'] = df_raw['location'].replace(to_replace='Nancy[\\s]*[\\S]*[\\w]*[\\W]*', value='Nancy,France',regex=True)\n",
    "df_raw['location'] = df_raw['location'].replace(to_replace='Amiens[\\s]*[\\S]*[\\w]*[\\W]*', value='Amiens',regex=True)\n",
    "UKlist = ['London','[\\S]*[\\w]*[\\W]*UK','[\\S]*[\\w]*[\\W]*United Kingdom','[\\S]*[\\w]*[\\W]*England','[\\S]*[\\w]*[\\W]*Scotland','[\\S]*[\\w]*[\\W]*Ireland']\n",
    "df_raw['location'] = df_raw['location'].replace(to_replace=UKlist, value='UK',regex=True)\n",
    "USlist = ['[\\S]*[\\w]*[\\W]*United States','New York, NY','[\\S]*[\\w]*[\\W]*USA','[\\S]*[\\w]*[\\W]*US']\n",
    "df_raw['location'] = df_raw['location'].replace(to_replace=USlist, value='US',regex=True)\n",
    "df_raw['location'] = df_raw['location'].replace(to_replace='overseas[\\S]*[\\w]*[\\W]*', value='overseas',regex=True)\n",
    "\n",
    "df_raw['location'].value_counts()"
   ]
  },
  {
   "cell_type": "code",
   "execution_count": 125,
   "metadata": {
    "scrolled": true
   },
   "outputs": [
    {
     "data": {
      "text/plain": [
       "Montpellier,France    4568\n",
       "Name: location, dtype: int64"
      ]
     },
     "execution_count": 125,
     "metadata": {},
     "output_type": "execute_result"
    }
   ],
   "source": [
    "# select columns if a candidate is mentioned\n",
    "#Fine the city distribution  \n",
    "#\"mention_Mélenchon\", \"mention_Fillon\", \"mention_Le Pen\", \"mention_Macron\", \"mention_Hamon\"])\n",
    "df1=df_raw.loc[df_raw['location']== 'Montpellier,France']\n",
    "df2=df1.loc[df1['mention_Mélenchon']== 1]\n",
    "df2['location'].value_counts()\n",
    "\n",
    "#df3=df_raw.loc[df_raw['location']== 'Ile-de-France']\n",
    "#df4=df3.loc[df3['mention_Mélenchon']== 1]\n",
    "#df4['location'].value_counts()\n",
    "#df1=df_raw.loc[df_raw['location']== 'Amiens']\n",
    "#df1['location'].value_counts()"
   ]
  },
  {
   "cell_type": "code",
   "execution_count": null,
   "metadata": {
    "collapsed": true
   },
   "outputs": [],
   "source": []
  },
  {
   "cell_type": "code",
   "execution_count": null,
   "metadata": {
    "collapsed": true
   },
   "outputs": [],
   "source": []
  },
  {
   "cell_type": "code",
   "execution_count": null,
   "metadata": {
    "collapsed": true
   },
   "outputs": [],
   "source": []
  }
 ],
 "metadata": {
  "kernelspec": {
   "display_name": "Python 2",
   "language": "python",
   "name": "python2"
  },
  "language_info": {
   "codemirror_mode": {
    "name": "ipython",
    "version": 2
   },
   "file_extension": ".py",
   "mimetype": "text/x-python",
   "name": "python",
   "nbconvert_exporter": "python",
   "pygments_lexer": "ipython2",
   "version": "2.7.10"
  }
 },
 "nbformat": 4,
 "nbformat_minor": 2
}
